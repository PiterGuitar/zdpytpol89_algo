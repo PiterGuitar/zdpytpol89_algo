{
 "cells": [
  {
   "cell_type": "markdown",
   "id": "d0f5ec65-f631-4cca-93cd-544a50eb750a",
   "metadata": {},
   "source": [
    "### Algorytmy wyszukiwania"
   ]
  },
  {
   "cell_type": "markdown",
   "id": "7cd3d465-c20e-42a6-ae4d-3722684f1f62",
   "metadata": {},
   "source": [
    "#### Przeszukiwanie liniowe"
   ]
  },
  {
   "cell_type": "code",
   "execution_count": 1,
   "id": "deef81b7-d336-4d97-8f9e-6d90c4b6e0b0",
   "metadata": {},
   "outputs": [],
   "source": [
    "def linear_search(search_list, target):\n",
    "    ...\n",
    "\n",
    "# Przykład użycia\n",
    "# a_list = [1, 4, 6, 23, 5, 2]\n",
    "# linear_search(a_list, 6) -> 2\n",
    "# linear_search(a_list, 10) -> None\n",
    "# linear_search(a_list, 5) -> 4"
   ]
  },
  {
   "cell_type": "markdown",
   "id": "2c230ebe-d659-40d7-9834-edf984692983",
   "metadata": {},
   "source": [
    "**Analityczne oszacowanie czasowej złożoności obliczeniowej**\n",
    "\n",
    "$T(n) =  3 \\cdot n + 1$\n",
    "\n",
    "$f(n) = n$\n",
    "\n",
    "$O(n)$\n",
    "\n",
    "**Heurystyczne oszacowanie czasowej złożoności obliczeniowej**\n",
    "\n",
    "Przypadek optymistyczny - $\\Omega(1)$ (trzy operacje)\n",
    "\n",
    "Przypadek pesymistyczny - $O(n)$"
   ]
  },
  {
   "cell_type": "markdown",
   "id": "b412608d-0394-42cb-85e7-f0e832e7aa7c",
   "metadata": {},
   "source": [
    "Przykłady zasosowań:\n",
    "1. znajowanie duplikatów\n",
    "2. znajdowanie wartości maksymalnej"
   ]
  }
 ],
 "metadata": {
  "kernelspec": {
   "display_name": "Python 3 (ipykernel)",
   "language": "python",
   "name": "python3"
  },
  "language_info": {
   "codemirror_mode": {
    "name": "ipython",
    "version": 3
   },
   "file_extension": ".py",
   "mimetype": "text/x-python",
   "name": "python",
   "nbconvert_exporter": "python",
   "pygments_lexer": "ipython3",
   "version": "3.12.4"
  }
 },
 "nbformat": 4,
 "nbformat_minor": 5
}
