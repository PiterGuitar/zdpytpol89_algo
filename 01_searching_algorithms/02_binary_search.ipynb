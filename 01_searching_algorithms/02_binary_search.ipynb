{
 "cells": [
  {
   "cell_type": "markdown",
   "id": "1cc552d7-8d4a-46dc-a78f-0c6e45589c92",
   "metadata": {},
   "source": [
    "### Algorytmy wyszukiwania"
   ]
  },
  {
   "cell_type": "markdown",
   "id": "717e3eb0-87d6-4b69-80f3-1f248f388ff7",
   "metadata": {},
   "source": [
    "#### Przeszukiwanie binarne"
   ]
  },
  {
   "cell_type": "code",
   "execution_count": 18,
   "id": "8215a95a-8a53-4f65-affb-9dcf85615bc2",
   "metadata": {},
   "outputs": [],
   "source": [
    "# Zakładamy, że zbiór wejściowy jest uporzadkowany\n",
    "\n",
    "# Iteracyjnie\n",
    "def binary_search_iter(sorted_list: list[int], target: int) -> int | None:\n",
    "    low_pointer = 0\n",
    "    high_pointer = len(sorted_list) - 1\n",
    "\n",
    "    while low_pointer < high_pointer:\n",
    "        mid_idx = (low_pointer + high_pointer) // 2\n",
    "        mid_val = sorted_list[mid_idx]\n",
    "    \n",
    "        if mid_val == target:\n",
    "            return mid_idx\n",
    "        elif mid_val > target:\n",
    "            high_pointer = mid_idx\n",
    "        else:\n",
    "            low_pointer = mid_idx+1\n",
    "\n",
    "    return None\n",
    "\n",
    "# Przykład użycia\n",
    "# a_list = [1, 4, 6, 23, 5, 2]\n",
    "# binary_search_iter(a_list, 6) -> 2\n",
    "# binary_search_iter(a_list, 10) -> None\n",
    "# binary_search_iter(a_list, 5) -> 4"
   ]
  },
  {
   "cell_type": "code",
   "execution_count": 19,
   "id": "4ccbde5e-c5b6-4346-ab09-ea29af156c33",
   "metadata": {
    "scrolled": true
   },
   "outputs": [
    {
     "name": "stdout",
     "output_type": "stream",
     "text": [
      "4\n",
      "None\n",
      "3\n"
     ]
    }
   ],
   "source": [
    "a_list = [1, 2, 4, 5, 6, 23]\n",
    "print(binary_search_iter(a_list, 6)) # -> 2\n",
    "print(binary_search_iter(a_list, 10)) # -> None\n",
    "print(binary_search_iter(a_list, 5)) # -> 4"
   ]
  },
  {
   "cell_type": "markdown",
   "id": "f2c96465-7386-4f36-8bd6-0ff3bfe057c7",
   "metadata": {},
   "source": [
    "**Oszacowanie złożoności czasowej**\n",
    "\n",
    "$T(n) = 2 + 14 \\cdot log(n)$\n",
    "\n",
    "$f(n) = log(n)$\n",
    "\n",
    "$O(log(n))$"
   ]
  },
  {
   "cell_type": "code",
   "execution_count": 22,
   "id": "2a03c8ab-8f8b-45b5-8460-6c9fe3c7f427",
   "metadata": {},
   "outputs": [],
   "source": [
    "# Rekurencyjnie\n",
    "def binary_search_recursion(sorted_list: list[int], low_pointer: int, high_pointer: int, target: int) -> int | None:\n",
    "    if low_pointer >= high_pointer:\n",
    "        return None\n",
    "    \n",
    "    mid_idx = (low_pointer + high_pointer) // 2\n",
    "    mid_val = sorted_list[mid_idx]\n",
    "\n",
    "    if mid_val == target:\n",
    "        return mid_idx\n",
    "    elif mid_val > target:\n",
    "        return binary_search_recursion(sorted_list, low_pointer, mid_idx, target)\n",
    "    else:\n",
    "        return binary_search_recursion(sorted_list, mid_idx+1, high_pointer, target)\n",
    "\n",
    "# Przykład użycia\n",
    "# a_list = [1, 2, 4, 5, 6, 23]\n",
    "# binary_search_recursion(a_list, 0, len(a_list)-1, 6) -> 4\n",
    "# binary_search_recursion(a_list, 0, len(a_list)-1, 10) -> None\n",
    "# binary_search_recursion(a_list, 0, len(a_list)-1, 4) -> 2\n",
    "# binary_search_recursion(a_list, 0, len(a_list)-1, 2) -> 5"
   ]
  },
  {
   "cell_type": "code",
   "execution_count": 23,
   "id": "e7fd128f-dbb5-4715-8894-2375322f8248",
   "metadata": {},
   "outputs": [
    {
     "name": "stdout",
     "output_type": "stream",
     "text": [
      "4\n",
      "None\n",
      "2\n",
      "1\n"
     ]
    }
   ],
   "source": [
    "a_list = [1, 2, 4, 5, 6, 23]\n",
    "print(binary_search_recursion(a_list, 0, len(a_list)-1, 6)) # -> 4\n",
    "print(binary_search_recursion(a_list, 0, len(a_list)-1, 10)) # -> None\n",
    "print(binary_search_recursion(a_list, 0, len(a_list)-1, 4))  # -> 2\n",
    "print(binary_search_recursion(a_list, 0, len(a_list)-1, 2))  # -> 5"
   ]
  },
  {
   "cell_type": "code",
   "execution_count": null,
   "id": "d598f859-3b6d-47fd-948e-b001f5ee0661",
   "metadata": {},
   "outputs": [],
   "source": []
  }
 ],
 "metadata": {
  "kernelspec": {
   "display_name": "Python 3 (ipykernel)",
   "language": "python",
   "name": "python3"
  },
  "language_info": {
   "codemirror_mode": {
    "name": "ipython",
    "version": 3
   },
   "file_extension": ".py",
   "mimetype": "text/x-python",
   "name": "python",
   "nbconvert_exporter": "python",
   "pygments_lexer": "ipython3",
   "version": "3.12.4"
  }
 },
 "nbformat": 4,
 "nbformat_minor": 5
}
