{
 "cells": [
  {
   "cell_type": "markdown",
   "id": "64887ff6-d173-4deb-9e59-03c8b9295b4c",
   "metadata": {},
   "source": [
    "## Notacja big-O (część II)"
   ]
  },
  {
   "cell_type": "markdown",
   "id": "d553a100-6f3c-48bb-967d-6032e6b31302",
   "metadata": {},
   "source": [
    "<div style=\"border:solid 1px;padding:20px;\">\n",
    "Asymptotyczne tempo wzrostu (aka Notacja asymtotyczna, Notacja duże-O, Notacja Landaua, Notacja Bachmann–Landau) to  miara określająca zachowanie wartości funkcji wraz ze wzrostem jej argumentów.\n",
    "</div>"
   ]
  },
  {
   "cell_type": "markdown",
   "id": "aab2771e-2afb-48ba-a752-845ee12bb2af",
   "metadata": {},
   "source": [
    "W teorii obliczeń wykorzystywana jest do opisu **złożoności obliczeniowej**, czyli zależności ilości potrzebnych zasobów (np. czasu lub pamięci) od rozmiaru danych wejściowych algorytmu."
   ]
  },
  {
   "cell_type": "markdown",
   "id": "13e1588c-6bcf-4b7e-b1d7-5f6b6b1c5d4a",
   "metadata": {},
   "source": [
    "Spójrzmy na kilka przykładów"
   ]
  },
  {
   "cell_type": "markdown",
   "id": "ff15609d-cdad-4f0f-a99a-c2496a87fa16",
   "metadata": {},
   "source": [
    "### Stała złożoność obliczeniowa $O(1)$"
   ]
  },
  {
   "cell_type": "code",
   "execution_count": 1,
   "id": "80c84a8b-caab-4029-946f-4105e16af5d8",
   "metadata": {},
   "outputs": [],
   "source": [
    "def func_constant(values: list) -> None:\n",
    "    '''\n",
    "    Prints first item in a list of values.\n",
    "    '''\n",
    "    print(values[0])  # 1"
   ]
  },
  {
   "cell_type": "code",
   "execution_count": 2,
   "id": "8f52bc7f-87be-45ad-9176-f252e829706f",
   "metadata": {},
   "outputs": [
    {
     "name": "stdout",
     "output_type": "stream",
     "text": [
      "1\n"
     ]
    }
   ],
   "source": [
    "func_constant([1,2,3])"
   ]
  },
  {
   "cell_type": "markdown",
   "id": "bdec08e8-e16a-4c19-87b7-13b1d0a3755c",
   "metadata": {},
   "source": [
    "Niezależnie od rozmiaru danych wejściowej funkcja wykona zawsze tą samą liczbę operacji (w naszym przypadku 1). Dla listy o długości 10, dla listy o długość 1 000 000 i dla listy o długości $n$, wykona tą samą liczbę operacji."
   ]
  },
  {
   "cell_type": "markdown",
   "id": "0f7a5d0e-6560-4a69-9a29-adb136f4ff8d",
   "metadata": {},
   "source": [
    "### Liniowa złożoność obliczeniowa $O(n)$"
   ]
  },
  {
   "cell_type": "code",
   "execution_count": 13,
   "id": "049fae4e-44db-4464-91c2-0a812159c9af",
   "metadata": {},
   "outputs": [],
   "source": [
    "def func_lin(lst: list) -> None:\n",
    "    '''\n",
    "    Takes in list and prints out all values\n",
    "    '''\n",
    "    # n razy\n",
    "    for val in lst:  # 1 (val = ...)\n",
    "        print(val)"
   ]
  },
  {
   "cell_type": "code",
   "execution_count": 14,
   "id": "a201ffcb-bf90-4d9c-bbb3-6648cae84841",
   "metadata": {},
   "outputs": [
    {
     "name": "stdout",
     "output_type": "stream",
     "text": [
      "1\n",
      "2\n",
      "3\n"
     ]
    }
   ],
   "source": [
    "func_lin([1,2,3])"
   ]
  },
  {
   "cell_type": "markdown",
   "id": "83285a2f-2801-48d0-84dc-8027df17bdba",
   "metadata": {},
   "source": [
    "Ta funkcja wykonuje się w czasie $O(n)$ (liniowym). Oznacza to, żę liczba operacji, które musi wykonać algorytm jest proporcjonalna jest proporcjonalna do rozmiaru danych wejściowych $n$."
   ]
  },
  {
   "cell_type": "markdown",
   "id": "d896a255-437e-4b0b-9d2b-911ec5f16619",
   "metadata": {},
   "source": [
    "### Kwadratowa złożoność obliczeniowa $O(n^2)$"
   ]
  },
  {
   "cell_type": "code",
   "execution_count": 4,
   "id": "135f9f24-ea73-491b-ae84-c441f336f6ab",
   "metadata": {},
   "outputs": [],
   "source": [
    "def func_quad(lst):\n",
    "    '''\n",
    "    Prints pairs for every item in list.\n",
    "    '''\n",
    "    # n razy\n",
    "    for item_1 in lst:  # 1 (item_1 = ...)\n",
    "        # n razy\n",
    "        for item_2 in lst:  # 1 (item_2 = ...)\n",
    "            print(item_1,item_2)"
   ]
  },
  {
   "cell_type": "markdown",
   "id": "8b472f50-e680-4a25-a6c0-204a5a8ef0e8",
   "metadata": {},
   "source": [
    "$$T(n) = n\\cdot (1 + n\\cdot 1) = n^2 + n$$\n",
    "\n",
    "$$O(n^2)$$"
   ]
  },
  {
   "cell_type": "code",
   "execution_count": 5,
   "id": "6db8348d-d439-48fa-9347-9f03de81a999",
   "metadata": {},
   "outputs": [
    {
     "name": "stdout",
     "output_type": "stream",
     "text": [
      "0 0\n",
      "0 1\n",
      "0 2\n",
      "0 3\n",
      "1 0\n",
      "1 1\n",
      "1 2\n",
      "1 3\n",
      "2 0\n",
      "2 1\n",
      "2 2\n",
      "2 3\n",
      "3 0\n",
      "3 1\n",
      "3 2\n",
      "3 3\n"
     ]
    }
   ],
   "source": [
    "lst = [0, 1, 2, 3]\n",
    "func_quad(lst)"
   ]
  },
  {
   "cell_type": "markdown",
   "id": "e7cd3e0c-c9e4-430c-86ef-64fa428aa6bc",
   "metadata": {},
   "source": [
    "W tym przykładzie mamy zagnieżdżoną pętle. Oznacza to, że listy o długości $n$ algorytm będzie musiał wykonać $n$ operacji dla każdego elementu listy. Czyli, $n\\cdot n = n^{2}$ operacji."
   ]
  },
  {
   "cell_type": "markdown",
   "id": "4e1e3bb7-24f0-4dac-b8bd-8981359f5cb8",
   "metadata": {},
   "source": [
    "#### Reguła najsłabszego ogniwa\n",
    "\n",
    "Złożoność obliczeniowa całego algorytmu determinuje nam złożoność obliczeniowa najwolniejszego ze składników tego algorytmu.\n",
    "\n",
    "Przykład \\\n",
    "Jeżeli zobaczymy w naszym algorytmie podwójną pętle (zależną od rozmiaru parametrów wejściowych) oznaczać to będzie, że złożoność obliczeniowa algorytmu będzie conajmniej kwadratowa (a może jeszcze gorsza). "
   ]
  },
  {
   "cell_type": "code",
   "execution_count": 17,
   "id": "31e6955e-a43f-49ef-aadb-3514f75632cd",
   "metadata": {},
   "outputs": [],
   "source": [
    "def comp(lst: list):\n",
    "    '''\n",
    "    This function prints the first item O(1)\n",
    "    Then is prints the first 1/2 of the list O(n/2)\n",
    "    Then prints a string 10 times O(10)\n",
    "    '''\n",
    "    print(lst[0])  # 1\n",
    "    \n",
    "    midpoint = len(lst) // 2  # 3 (1 na len, 1 na dzielenie, 1 na przypisanie)\n",
    "\n",
    "    mid_list = lst[:midpoint] # n/2 (bo wycinek długości n/2)\n",
    "    \n",
    "    # n/2 razy (bo, mid_list ma długości n/2)\n",
    "    for val in mid_list:  # 1 (bo przypisanie do val)\n",
    "        print(val)\n",
    "\n",
    "    # n razy\n",
    "    for x in range(10):  # 2 (1 na generacje i 1 na przyisanie do x) \n",
    "        print('number')"
   ]
  },
  {
   "cell_type": "code",
   "execution_count": 18,
   "id": "c4c93ac2-25d5-4c99-930e-c4ddf94ee674",
   "metadata": {},
   "outputs": [
    {
     "name": "stdout",
     "output_type": "stream",
     "text": [
      "1\n",
      "1\n",
      "2\n",
      "3\n",
      "4\n",
      "5\n",
      "number\n",
      "number\n",
      "number\n",
      "number\n",
      "number\n",
      "number\n",
      "number\n",
      "number\n",
      "number\n",
      "number\n"
     ]
    }
   ],
   "source": [
    "lst = [1,2,3,4,5,6,7,8,9,10]\n",
    "comp(lst)"
   ]
  },
  {
   "cell_type": "markdown",
   "id": "6118bf43-ad67-4db3-a42e-628798739317",
   "metadata": {},
   "source": [
    "$$T(n) = 1 + 2 + \\frac{n}{2} + \\frac{n}{2} \\cdot 1 + n \\cdot 2 = 3\\cdot n + 3$$\n",
    "\n",
    "$$f(n) = n$$\n",
    "\n",
    "$$O(n)$$"
   ]
  },
  {
   "cell_type": "markdown",
   "id": "58af06dd-1693-4cb3-ac5f-9a5d19163059",
   "metadata": {},
   "source": [
    "### Najgorszy vs najlepszy przypadek"
   ]
  },
  {
   "cell_type": "markdown",
   "id": "bace3dc4-7ebc-4255-922a-27d89a6153d8",
   "metadata": {},
   "source": [
    "Najczęściej interesuje nas tylko analiza najgorszego przypadku (tzn. najdłuższy możliwy scenariusz). Należy być jednak świadomym, że najgorszy i najlepszy przypadek mogą się znacznie różnić w złożoności obliczeniowej i umieć przeanalizować obie złożoności. Do ich analizy używamy różnych notacji."
   ]
  },
  {
   "cell_type": "code",
   "execution_count": 35,
   "id": "3a3535fc-702e-4a35-8732-936a96ea9a03",
   "metadata": {},
   "outputs": [],
   "source": [
    "x = 5\n",
    "\n",
    "x = \"Ala\""
   ]
  },
  {
   "cell_type": "code",
   "execution_count": 38,
   "id": "721f63e5-fa7a-4f24-9d20-761d3bba5d3b",
   "metadata": {},
   "outputs": [
    {
     "data": {
      "text/plain": [
       "'Ala'"
      ]
     },
     "execution_count": 38,
     "metadata": {},
     "output_type": "execute_result"
    }
   ],
   "source": []
  },
  {
   "cell_type": "code",
   "execution_count": 39,
   "id": "74447531-d66f-40d6-a404-3171b2688c68",
   "metadata": {},
   "outputs": [],
   "source": [
    "from typing import Any\n",
    "\n",
    "\n",
    "def matcher(lst: list[Any], match: Any) -> bool:\n",
    "    '''\n",
    "    Given a list lst, return a boolean indicating if match item is in the list\n",
    "    '''\n",
    "    # n razy\n",
    "    for item in lst:  # 1\n",
    "        if item == match:  # 1\n",
    "            return True\n",
    "    return False"
   ]
  },
  {
   "cell_type": "code",
   "execution_count": 41,
   "id": "001e38fa-96d1-4cb5-824e-ec1d287868f7",
   "metadata": {},
   "outputs": [
    {
     "data": {
      "text/plain": [
       "[0, 1, 2, 3, 4, 5, 6, 7, 8, 9]"
      ]
     },
     "execution_count": 41,
     "metadata": {},
     "output_type": "execute_result"
    }
   ],
   "source": [
    "lst = list(range(10))\n",
    "lst"
   ]
  },
  {
   "cell_type": "markdown",
   "id": "bc23ca53-d663-42bd-afb6-4db5a95506e6",
   "metadata": {},
   "source": [
    "#### Najlepszy przypadek (notacja dużego omega)\n",
    "\n",
    "Najlepszy możliwy przypadek w naszym algorytmie to sytuacja, w której poszukiwany element znajdować się będzie na pierwszej pozycji listy."
   ]
  },
  {
   "cell_type": "code",
   "execution_count": 42,
   "id": "3bd3821a-5b8d-428d-ac99-35cc80f255f9",
   "metadata": {},
   "outputs": [
    {
     "data": {
      "text/plain": [
       "True"
      ]
     },
     "execution_count": 42,
     "metadata": {},
     "output_type": "execute_result"
    }
   ],
   "source": [
    "matcher(lst, 0)"
   ]
  },
  {
   "cell_type": "markdown",
   "id": "bac7bdb5-fa7b-47c1-ae9b-c7cd326a6d03",
   "metadata": {},
   "source": [
    "$$T(n) = 2$$\n",
    "$$f(n) = 2$$\n",
    "$$\\Omega(n) = 1$$"
   ]
  },
  {
   "cell_type": "markdown",
   "id": "c610961f-110c-4fbb-8b25-1c4b6dfa5fca",
   "metadata": {},
   "source": [
    "#### Najgorszy przypadek (notacja dużego O)\n",
    "\n",
    "Najgorszy możliwy przypadek w naszym algorytmie to sytuacja, w której poszukiwanego elementu w ogóle nie ma na liście. Wtedy algorytm musi przejść przez wszystkie elementy listy."
   ]
  },
  {
   "cell_type": "code",
   "execution_count": 43,
   "id": "12cd7bd4-ba59-4fa1-8597-32e035b4f008",
   "metadata": {},
   "outputs": [
    {
     "data": {
      "text/plain": [
       "False"
      ]
     },
     "execution_count": 43,
     "metadata": {},
     "output_type": "execute_result"
    }
   ],
   "source": [
    "matcher(lst, 10)"
   ]
  },
  {
   "cell_type": "markdown",
   "id": "d3b27efd-f28d-4bcf-bffa-2500a7606030",
   "metadata": {},
   "source": [
    "$$T(n) = 2\\cdot n$$\n",
    "$$f(n) = n$$\n",
    "$$O(n)$$"
   ]
  },
  {
   "cell_type": "markdown",
   "id": "784da113-e446-4c8f-b65a-94a96832fb67",
   "metadata": {},
   "source": [
    "### Średni przypadek (notacja dużego Theta)"
   ]
  },
  {
   "cell_type": "markdown",
   "id": "bfe0d671-6482-4fa6-91d0-46c291b47b87",
   "metadata": {},
   "source": [
    "Średni przypadek zdefiniowany jest jako stosunek wszystkich możliwych przypadków, do liczby tych przypadków. W naszym przykładzie będzie to:\n",
    "\n",
    "$$T(n) = \\frac{1+2+3+...+n}{n}$$"
   ]
  },
  {
   "cell_type": "markdown",
   "id": "29981bac-3faf-49c7-850c-2ce90c9d81f0",
   "metadata": {},
   "source": [
    "Znając wzór na sumę ciągu arytmetycznego \n",
    "\n",
    "$$ \\sum_{i=0}^{n} {i} = \\frac{n(n+1)}{2} $$\n",
    "\n",
    "możemy zapisać:\n",
    "\n",
    "$$T(n) = \\frac{\\frac{n\\cdot(n+1)}{2}}{n} = \\frac{n+1}{2}$$\n",
    "$$\\Theta(n)=n$$"
   ]
  },
  {
   "cell_type": "markdown",
   "id": "d56e2e06-d83a-4f19-9149-b980d600defb",
   "metadata": {},
   "source": [
    "Jak wynika z definicji znalezienie przypadku średniego często wymaga wykonania złożonych obliczeń. W przyybliżeniu możemy utożsamiać przypadek średni z przypadkiem najgorszym i w ponad 90% przypadków będziemy mieli rację. "
   ]
  },
  {
   "cell_type": "markdown",
   "id": "17a0a516-74d4-4a53-ace5-da4185301fb6",
   "metadata": {},
   "source": [
    "Podsumowując:\n",
    "- przypadek najgorszy $O(n)$\n",
    "- przypadek najlepszy $\\Omega(1)$\n",
    "- przypadek średni $\\Theta(n)$"
   ]
  },
  {
   "cell_type": "markdown",
   "id": "4ce23373-144a-496d-b385-4a2afd5c6122",
   "metadata": {},
   "source": [
    "**Dopisek.** Przyjęło się używać oznaczeń: $O()$ na przypadek najgorszy, $\\Omega()$ na przypadek najlepszy i $\\Theta(n)$ na przypadek średni, ale jeżeli chcielibyśmy używać tych notacji precyzyjnie, to oznaczają one coś zupełnie innego (opisują asymptotyczne zachowania funkcji). Nie jest to jednak na tym etapie istotne. Osoby zainteresowane mogą poznać więcej szczegółów na przykład tutaj: https://youtu.be/lj3E24nnPjI?si=SqcBrOnq-IyYh_71&t=533"
   ]
  },
  {
   "cell_type": "markdown",
   "id": "59952614-4b30-4a95-890d-b336edc18b46",
   "metadata": {},
   "source": [
    "### Złożoność pamięciowa"
   ]
  },
  {
   "cell_type": "markdown",
   "id": "a8243417-5ec1-4c8d-9841-bca58acef419",
   "metadata": {},
   "source": [
    "Często interesuje nas też ile pamięci w funkcji rozmiaru danych wejściowych potrzebuje algorytm. Taką złożoność nazywamy złożonością pamięciową (ang. space complexity).\n",
    "\n",
    "Zróbmy przykład"
   ]
  },
  {
   "cell_type": "code",
   "execution_count": 28,
   "id": "236e645d-1aea-446b-bc33-47adf3e74890",
   "metadata": {},
   "outputs": [],
   "source": [
    "def printer(n=10):\n",
    "    '''\n",
    "    Prints \"hello world!\" n times\n",
    "    '''\n",
    "    for x in range(n):  # potrzeba 1 komórki na wartość x\n",
    "        print('Hello World!')"
   ]
  },
  {
   "cell_type": "code",
   "execution_count": 29,
   "id": "ce96d915-49fc-41cb-b39e-a8c3dbfbf490",
   "metadata": {},
   "outputs": [
    {
     "name": "stdout",
     "output_type": "stream",
     "text": [
      "Hello World!\n",
      "Hello World!\n",
      "Hello World!\n",
      "Hello World!\n",
      "Hello World!\n",
      "Hello World!\n",
      "Hello World!\n",
      "Hello World!\n",
      "Hello World!\n",
      "Hello World!\n"
     ]
    }
   ],
   "source": [
    "printer()"
   ]
  },
  {
   "cell_type": "markdown",
   "id": "4558dbc5-fb89-4a6d-acd6-e373d8ec0429",
   "metadata": {},
   "source": [
    "Ile python musi zaalokować pamięci na potrzeby realizacji tego algorytmu?\n",
    "\n",
    "Jedną komórkę (potrzebuje przechowywać wartość zmiennej x). Stąd złożoność pamięciowa algorytmu to:\n",
    "\n",
    "$$O(1)$$"
   ]
  },
  {
   "cell_type": "markdown",
   "id": "2352fd68-d686-4d4e-a30e-ce8336c88573",
   "metadata": {},
   "source": [
    "A złożoność obliczeniowa ?\n",
    "\n",
    "Wykonuje n operacji, czyli:\n",
    "$$O(n)$$"
   ]
  },
  {
   "cell_type": "markdown",
   "id": "af022cfd-0a26-4d58-8902-f9782ff91e17",
   "metadata": {},
   "source": [
    "Zróbmy drugi przykład."
   ]
  },
  {
   "cell_type": "code",
   "execution_count": 31,
   "id": "3666346e-3330-4a43-afbd-9f9ac5485d9f",
   "metadata": {},
   "outputs": [],
   "source": [
    "def create_list(n: int) -> list:\n",
    "    new_list = []  # 1 komórkę na listę\n",
    "    \n",
    "    for num in range(n):  # 1 komórkę na num\n",
    "        new_list.append('new')  # n komórek w liście new_list\n",
    "    \n",
    "    return new_list"
   ]
  },
  {
   "cell_type": "code",
   "execution_count": 32,
   "id": "632db701-af57-48ef-a14d-d94bfcb2b120",
   "metadata": {},
   "outputs": [
    {
     "name": "stdout",
     "output_type": "stream",
     "text": [
      "['new', 'new', 'new', 'new', 'new']\n"
     ]
    }
   ],
   "source": [
    "print(create_list(5))"
   ]
  },
  {
   "cell_type": "markdown",
   "id": "9f1e782e-2029-4cf0-8d3f-8b6c962dd505",
   "metadata": {},
   "source": [
    "Ile python będzie musiał zaalokować pamięci na potrzeby tego algorytmu?\n",
    "\n",
    "$n$ komórek, ponieważ wypełnia listę $n$ elementami (tworzy $n$-elementową listę). Dlatego złożoność pamięciowa tego algorytmu to:\n",
    "$$O(n)$$"
   ]
  },
  {
   "cell_type": "markdown",
   "id": "5f93f277-ad9d-4c10-88ec-fa8d7c2060d8",
   "metadata": {},
   "source": [
    "A złożoność obliczeniowa? \n",
    "\n",
    "Też\n",
    "$$O(n)$$"
   ]
  },
  {
   "cell_type": "markdown",
   "id": "960869d9-2471-4730-beae-eb69638bcba1",
   "metadata": {},
   "source": [
    "### Zastosowanie złożoności obliczeniowej w codziennej pracy programisty"
   ]
  },
  {
   "cell_type": "markdown",
   "id": "5c29e9cc-ee20-4cd9-afaf-3bc169c21a8c",
   "metadata": {},
   "source": [
    "W jaki sposób później wykorzystujemy tą wiedzę w programowaniu?"
   ]
  },
  {
   "cell_type": "markdown",
   "id": "3fd013d7-fde1-4fb7-93e7-967fab8e78b3",
   "metadata": {},
   "source": [
    "https://wiki.python.org/moin/TimeComplexity"
   ]
  }
 ],
 "metadata": {
  "kernelspec": {
   "display_name": "Python 3 (ipykernel)",
   "language": "python",
   "name": "python3"
  },
  "language_info": {
   "codemirror_mode": {
    "name": "ipython",
    "version": 3
   },
   "file_extension": ".py",
   "mimetype": "text/x-python",
   "name": "python",
   "nbconvert_exporter": "python",
   "pygments_lexer": "ipython3",
   "version": "3.12.4"
  }
 },
 "nbformat": 4,
 "nbformat_minor": 5
}
