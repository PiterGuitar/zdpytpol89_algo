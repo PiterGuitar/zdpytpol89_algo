{
 "cells": [
  {
   "cell_type": "markdown",
   "id": "571a1bd7-d4e7-45b5-9a30-34b078493c69",
   "metadata": {},
   "source": [
    "## Rekurencja\n",
    "\n",
    "Rekurencja aka rekursja (ang. recursion) realizacja powtórzeń w funkcyjnym paradygmacie programowania."
   ]
  },
  {
   "cell_type": "markdown",
   "id": "80944d5e-beab-4d44-b300-302583e2f4af",
   "metadata": {},
   "source": [
    "Wróćmy do zadania z silnią. Istnieje inny sposób rozwiązania tego zadania."
   ]
  },
  {
   "cell_type": "markdown",
   "id": "cdfc6304-683e-44df-ae20-a053b35aefe0",
   "metadata": {},
   "source": [
    "### Zadanie 1\n",
    "\n",
    "Napisz funkcję liczącą silnie zadanego parametru w sposób rekurencyjny."
   ]
  },
  {
   "cell_type": "code",
   "execution_count": 1,
   "id": "e67e02b4-f2e3-4905-91b9-ca293b5362c1",
   "metadata": {},
   "outputs": [],
   "source": [
    "# Rekurencyjnie\n",
    "def factorial_recursion(n):\n",
    "    if n == 1:\n",
    "        return 1\n",
    "        \n",
    "    res = factorial_recursion(n-1)\n",
    "    return n * res\n",
    "\n",
    "# Przykład użycia\n",
    "# factorial_recursion(5) -> 120\n",
    "# factorial_recursion(1) -> 1\n",
    "\n",
    "# 5 -> 5*4*3*2*1"
   ]
  },
  {
   "cell_type": "code",
   "execution_count": 2,
   "id": "720877c7-5352-4036-82f4-9064c0732751",
   "metadata": {},
   "outputs": [
    {
     "name": "stdout",
     "output_type": "stream",
     "text": [
      "Rozwiązanie rekurencyjne: 120\n"
     ]
    }
   ],
   "source": [
    "print(f\"Rozwiązanie rekurencyjne: {factorial_recursion(5)}\")"
   ]
  },
  {
   "cell_type": "markdown",
   "id": "039f135b-396e-4bbd-82e5-cda032f10f7c",
   "metadata": {},
   "source": [
    "### Oszacowanie złożoności obliczeniowej wersji rekurencyjnej algorytmu\n",
    "\n",
    "**Heurystycznie**\n",
    "\n",
    "Złożoność obliczeniowa zależy do dwóch czynników:\n",
    "\n",
    "1. Kroku rekurencji\n",
    "\n",
    "    U nas krok liniowy, czyli $n$ (w każdym wywołaniu zmniejszamy n o 1)\n",
    "\n",
    "2. Liczby użytych w funkcji formuł rekurencyjnych (złożoność eksponencjalna, dla dwóch formuł rekruencyjych mamy $O(2^{n})$)\n",
    "\n",
    "Stąd złożoność obliczeniowa naszego algorytmu wyraża się wzorem:\n",
    "$$1^{n} \\cdot n = n \\Rightarrow O(n)$$"
   ]
  },
  {
   "cell_type": "markdown",
   "id": "0b6b0960-b8e3-48e0-8c2e-c0dca1c14008",
   "metadata": {},
   "source": [
    "### Zadanie 2\n",
    "\n",
    "Napisz funkcję, która zsumuje wszystkie liczby od zadanej liczby do 1 w sposób rekurencyjny."
   ]
  },
  {
   "cell_type": "code",
   "execution_count": 7,
   "id": "93917db8-0e08-4752-8dab-6ae2022e8e19",
   "metadata": {},
   "outputs": [],
   "source": [
    "# Iteracyjnie\n",
    "def sum_to_one_iter(n: int) -> int:\n",
    "    res = n\n",
    "    \n",
    "    while n > 1:\n",
    "        n -= 1\n",
    "        res += n\n",
    "\n",
    "    return res"
   ]
  },
  {
   "cell_type": "code",
   "execution_count": 8,
   "id": "3dafc26f-3b38-4cc7-8caf-2c37146dd697",
   "metadata": {},
   "outputs": [
    {
     "data": {
      "text/plain": [
       "15"
      ]
     },
     "execution_count": 8,
     "metadata": {},
     "output_type": "execute_result"
    }
   ],
   "source": [
    "sum_to_one_iter(5)"
   ]
  },
  {
   "cell_type": "code",
   "execution_count": 9,
   "id": "4e0a2834-072f-46ac-8e7f-57d88ee0c3d9",
   "metadata": {},
   "outputs": [
    {
     "name": "stdout",
     "output_type": "stream",
     "text": [
      "Rozwiązanie rekurencyjne dla n=5 15\n"
     ]
    }
   ],
   "source": [
    "# Rekurencyjne\n",
    "def sum_to_one_recursive(n):\n",
    "    if n == 1:\n",
    "        return 1\n",
    "\n",
    "    return n + sum_to_one_recursive(n-1)\n",
    "\n",
    "print(f\"Rozwiązanie rekurencyjne dla n=5 {sum_to_one_recursive(5)}\")"
   ]
  },
  {
   "cell_type": "markdown",
   "id": "6c5a5fbc-f30e-4af8-8c11-af540d5b00a9",
   "metadata": {},
   "source": [
    "### Zadanie 3\n",
    "Napisz funkcję liczącą n-ty element ciągu Fibonacciego (iteracyjnie i rekurencyjnie).\n",
    "\n",
    "https://en.wikipedia.org/wiki/Fibonacci_sequence"
   ]
  },
  {
   "cell_type": "code",
   "execution_count": 10,
   "id": "3bcd3fa3-f4b0-481b-b1cf-3efc9cad9b78",
   "metadata": {},
   "outputs": [],
   "source": [
    "# Iteracyjnie\n",
    "def fib_iter(n):\n",
    "    a0 = 0  # 1\n",
    "    a1 = 1  # 1\n",
    "\n",
    "    if n==1: return a0  # 1\n",
    "    if n==2: return a1  # 1\n",
    "\n",
    "    # n-2 razy\n",
    "    for idx in range(2, n):  # 1  \n",
    "        a0, a1 = a1, a0 + a1  # 3 (1 na sumę, 1 na a0, 1 na a1) \n",
    "\n",
    "    return a1"
   ]
  },
  {
   "cell_type": "code",
   "execution_count": 12,
   "id": "923297e1-2faa-4cbc-9f96-042040645fe3",
   "metadata": {},
   "outputs": [
    {
     "data": {
      "text/plain": [
       "34"
      ]
     },
     "execution_count": 12,
     "metadata": {},
     "output_type": "execute_result"
    }
   ],
   "source": [
    "fib_iter(10)"
   ]
  },
  {
   "cell_type": "code",
   "execution_count": 13,
   "id": "c30297e9-8b3d-4757-8594-143997e93910",
   "metadata": {},
   "outputs": [],
   "source": [
    "# Rekurencyjnie\n",
    "def fib_rec(n):\n",
    "    if n == 1: return 0\n",
    "    if n == 2: return 1\n",
    "\n",
    "    return fib_rec(n-1) + fib_rec(n-2)"
   ]
  },
  {
   "cell_type": "code",
   "execution_count": 14,
   "id": "b4f71f2e-d8bc-4917-b5a8-8dde915371f4",
   "metadata": {},
   "outputs": [
    {
     "name": "stdout",
     "output_type": "stream",
     "text": [
      "3 wyraz ciągu Fibonacciego - 1\n",
      "10 wyraz ciągu Fibonacciego - 34\n"
     ]
    }
   ],
   "source": [
    "print(f\"3 wyraz ciągu Fibonacciego - {fib_iter(3)}\")  # 1\n",
    "print(f\"10 wyraz ciągu Fibonacciego - {fib_iter(10)}\")  # 34"
   ]
  },
  {
   "cell_type": "markdown",
   "id": "50179fdd-4788-4487-8d44-6dab5566166e",
   "metadata": {},
   "source": [
    "Oszacowanie czasowej złożoności obliczeniowej algorytmu iteracyjnego\n",
    "\n",
    "$T(n) = 4 + (n-2) \\cdot (1+3) = 4 + (n-2) \\cdot 4 = 4\\cdot n - 4$\n",
    "\n",
    "$f(n) = n$\n",
    "\n",
    "$O(n)$\n",
    "\n",
    "Oszacowanie czasowej złożoności obliczeniowej algorytmu rekurencyjnego\n",
    "\n",
    "$O(2^{n})$"
   ]
  }
 ],
 "metadata": {
  "kernelspec": {
   "display_name": "Python 3 (ipykernel)",
   "language": "python",
   "name": "python3"
  },
  "language_info": {
   "codemirror_mode": {
    "name": "ipython",
    "version": 3
   },
   "file_extension": ".py",
   "mimetype": "text/x-python",
   "name": "python",
   "nbconvert_exporter": "python",
   "pygments_lexer": "ipython3",
   "version": "3.12.4"
  }
 },
 "nbformat": 4,
 "nbformat_minor": 5
}
