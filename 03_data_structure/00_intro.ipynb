{
 "cells": [
  {
   "cell_type": "markdown",
   "id": "18f0a9d0-322b-49ff-b8b5-2055cb80391d",
   "metadata": {},
   "source": [
    "## Struktury dany"
   ]
  },
  {
   "cell_type": "markdown",
   "id": "ca542c5e-a246-47e9-9737-5b9ce5d4129c",
   "metadata": {},
   "source": [
    "Podstawowa klasyfikacja struktur danych przewiduje podział struktur danych na:\n",
    "- struktury liniowe\n",
    "- struktury nieliniowe"
   ]
  },
  {
   "cell_type": "markdown",
   "id": "1d5378a1-86b5-4ce7-884d-ba14fb18c978",
   "metadata": {},
   "source": [
    "### Struktury liniowe\n",
    "\n",
    "Dane są ułożone w sekwencyjnej kolejności, gdzie każdy element ma dokładnie jednego następnika i jednego poprzednika (z wyjątkiem pierwszego i ostatniego). Przykładami liniowych struktur danych są:\n",
    "- tablice (*ang. array*)\n",
    "- listy wiązane (*ang. linked list*)\n",
    "- stosy (*ang. stack*)\n",
    "- kolejki (*ang. queue*)"
   ]
  },
  {
   "cell_type": "markdown",
   "id": "341822aa-9c2a-4684-ae96-5bd70cae6232",
   "metadata": {},
   "source": [
    "### Struktury nieliniowe\n",
    "\n",
    "Dane są organizowane hierarchicznie lub w sposób umożliwiający wiele połączeń między elementami, co nie wymaga sekwencyjności. Przykładami nieliniowych struktur danych są\n",
    "- mapy (*ang. hashmap*)\n",
    "- drzewa (*ang. tree*)\n",
    "- grafy (*ang. graph*)"
   ]
  }
 ],
 "metadata": {
  "kernelspec": {
   "display_name": "Python 3 (ipykernel)",
   "language": "python",
   "name": "python3"
  },
  "language_info": {
   "codemirror_mode": {
    "name": "ipython",
    "version": 3
   },
   "file_extension": ".py",
   "mimetype": "text/x-python",
   "name": "python",
   "nbconvert_exporter": "python",
   "pygments_lexer": "ipython3",
   "version": "3.12.4"
  }
 },
 "nbformat": 4,
 "nbformat_minor": 5
}
