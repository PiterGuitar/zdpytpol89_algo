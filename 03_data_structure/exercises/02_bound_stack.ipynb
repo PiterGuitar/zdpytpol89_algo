{
 "cells": [
  {
   "cell_type": "markdown",
   "id": "3f3d4bb1-cbc1-4d40-a622-42ba3da0b0b7",
   "metadata": {},
   "source": [
    "### Stos (ang. stack)"
   ]
  },
  {
   "cell_type": "markdown",
   "id": "b9bedf2c-c2b7-419f-b173-ee3703ce7de2",
   "metadata": {},
   "source": [
    "| Operacja           | Najgorsza złożoność  |\n",
    "|--------------------|----------------------|\n",
    "| Wstawianie (push)  | O(1)                |\n",
    "| Usuwanie (pop)     | O(1)                |\n",
    "| Dostęp (access)    | O(n)                |\n",
    "| Szukanie (search)  | O(n)                |"
   ]
  },
  {
   "cell_type": "markdown",
   "id": "e418fb59-9673-4f55-9d19-1f05e32cec39",
   "metadata": {},
   "source": [
    "### Zadanie\n",
    "\n",
    "Zaimplementuj ograniczony stos (bound stack). W przypadka przekroczenia pojemności stosu (przepełnienia) rzuć wyjątek z komunikatem `Stack overflow`."
   ]
  },
  {
   "cell_type": "code",
   "execution_count": null,
   "id": "6835e66f-6b2f-4e3a-9c72-e03a3bb62d29",
   "metadata": {},
   "outputs": [],
   "source": []
  }
 ],
 "metadata": {
  "kernelspec": {
   "display_name": "Python 3 (ipykernel)",
   "language": "python",
   "name": "python3"
  },
  "language_info": {
   "codemirror_mode": {
    "name": "ipython",
    "version": 3
   },
   "file_extension": ".py",
   "mimetype": "text/x-python",
   "name": "python",
   "nbconvert_exporter": "python",
   "pygments_lexer": "ipython3",
   "version": "3.12.4"
  }
 },
 "nbformat": 4,
 "nbformat_minor": 5
}
