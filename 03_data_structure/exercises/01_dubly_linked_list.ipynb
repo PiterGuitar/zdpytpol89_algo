{
 "cells": [
  {
   "cell_type": "markdown",
   "id": "1493407d-be60-47b9-a5c9-eab27ce20280",
   "metadata": {},
   "source": [
    "## Listy wiązane"
   ]
  },
  {
   "cell_type": "markdown",
   "id": "2c4cff24-a5a2-42bb-9172-4fa65c88197a",
   "metadata": {},
   "source": [
    "**Podstawowa cecha**: pozwalają na dynamiczną zmianę swojego rozmairu (w odróżnieniu od tablic). \n",
    "\n",
    "**Podstawowe operacje**:"
   ]
  },
  {
   "cell_type": "markdown",
   "id": "b31b454a-5649-4b10-a15c-fefa1bff862f",
   "metadata": {},
   "source": [
    "| Operacja           | Najgorsza złożoność  |\n",
    "|--------------------|----------------------|\n",
    "| Wstawianie (insert)| O(1)                |\n",
    "| Usuwanie (delete)  | O(1)                |\n",
    "| Dostęp (access)    | O(n)                |\n",
    "| Szukanie (search)  | O(n)                |\n"
   ]
  },
  {
   "cell_type": "markdown",
   "id": "e418fb59-9673-4f55-9d19-1f05e32cec39",
   "metadata": {},
   "source": [
    "### Zadanie\n",
    "\n",
    "Na bazie implementacji pojedynczej listy wiązanej zaimplementuje podwójną listę wiązaną. Przemyśl jak zmienią się złożoności dla takiej listy?"
   ]
  },
  {
   "cell_type": "markdown",
   "id": "bf17f824-4f11-4e4f-bcf1-08c06e8699f4",
   "metadata": {},
   "source": []
  }
 ],
 "metadata": {
  "kernelspec": {
   "display_name": "Python 3 (ipykernel)",
   "language": "python",
   "name": "python3"
  },
  "language_info": {
   "codemirror_mode": {
    "name": "ipython",
    "version": 3
   },
   "file_extension": ".py",
   "mimetype": "text/x-python",
   "name": "python",
   "nbconvert_exporter": "python",
   "pygments_lexer": "ipython3",
   "version": "3.12.4"
  }
 },
 "nbformat": 4,
 "nbformat_minor": 5
}
