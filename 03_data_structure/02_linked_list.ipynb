{
 "cells": [
  {
   "cell_type": "markdown",
   "id": "5e8b4a03-b8cb-4fed-9284-97f99bea4cf8",
   "metadata": {},
   "source": [
    "## Listy wiązane"
   ]
  },
  {
   "cell_type": "markdown",
   "id": "c03df954-4554-46b4-9f8d-88fe1e0310ba",
   "metadata": {},
   "source": [
    "Podstawowa cecha: pozwalają na dynamiczną zmianę swojego rozmairu (w odróżnieniu od tablic). \n",
    "\n",
    "Podstawowe operacje:"
   ]
  },
  {
   "cell_type": "markdown",
   "id": "756f62ac-b8ce-4bac-af1b-9ae9b8873291",
   "metadata": {},
   "source": [
    "| Operacja           | Najgorsza złożoność  |\n",
    "|--------------------|----------------------|\n",
    "| Wstawianie (insert)| O(1)                |\n",
    "| Usuwanie (delete)  | O(1)                |\n",
    "| Dostęp (access)    | O(n)                |\n",
    "| Szukanie (search)  | O(n)                |\n"
   ]
  },
  {
   "cell_type": "markdown",
   "id": "736bdb36-0353-4036-8c26-ab4a6880e975",
   "metadata": {},
   "source": [
    "### Singly Linked List"
   ]
  },
  {
   "cell_type": "code",
   "execution_count": 5,
   "id": "fc42d275-ff9e-4ed5-a0bd-a8617f638e15",
   "metadata": {},
   "outputs": [],
   "source": [
    "class Node:\n",
    "    ..."
   ]
  },
  {
   "cell_type": "code",
   "execution_count": 6,
   "id": "ee00e5a7-9946-41f5-be08-00e63668b9f2",
   "metadata": {},
   "outputs": [],
   "source": [
    "# LinkedList interface\n",
    "from typing import Any\n",
    "\n",
    "\n",
    "class LinkedList:\n",
    "    def __init__(self):\n",
    "        ...\n",
    "        \n",
    "    def __repr__(self) -> str:\n",
    "        ...\n",
    "\n",
    "    def __contains__(self) -> bool:\n",
    "        ...\n",
    "\n",
    "    def __len__(self) -> int:\n",
    "        ...\n",
    "\n",
    "    def append(self, value: Any) -> None:\n",
    "        ...\n",
    "\n",
    "    def prepand(self, value: Any) -> None:\n",
    "        ...\n",
    "\n",
    "    def insert(self, value: Any, index: int) -> None:\n",
    "        ...\n",
    "\n",
    "    def delete(self, value: Any) -> None:\n",
    "        ...\n",
    "\n",
    "    def pop(self, index: int) -> int:\n",
    "        ...\n",
    "\n",
    "    def get(self, index: int) -> int:\n",
    "        ..."
   ]
  },
  {
   "cell_type": "code",
   "execution_count": 7,
   "id": "53c7c171-cc97-4f60-b1d0-480da2b4dff1",
   "metadata": {},
   "outputs": [],
   "source": []
  }
 ],
 "metadata": {
  "kernelspec": {
   "display_name": "Python 3 (ipykernel)",
   "language": "python",
   "name": "python3"
  },
  "language_info": {
   "codemirror_mode": {
    "name": "ipython",
    "version": 3
   },
   "file_extension": ".py",
   "mimetype": "text/x-python",
   "name": "python",
   "nbconvert_exporter": "python",
   "pygments_lexer": "ipython3",
   "version": "3.12.4"
  }
 },
 "nbformat": 4,
 "nbformat_minor": 5
}
